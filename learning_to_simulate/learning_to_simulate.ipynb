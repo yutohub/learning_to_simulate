{
  "cells": [
    {
      "cell_type": "markdown",
      "metadata": {
        "id": "n-QiYwMq4mwg"
      },
      "source": [
        "This is an code of the following paper that can be verified with `Google Colab`.\n",
        "\n",
        "[Learning to Simulate Complex Physics with Graph Networks](https://deepmind.com/research/open-source/Learning-to-Simulate-Complex-Physics-with-Graph-Networks)\n",
        "\n",
        "Specifically, some part of the code of the following repo (visualization of learning results) has been changed.\n",
        "\n",
        "https://github.com/deepmind/deepmind-research/tree/master/learning_to_simulate\n",
        "\n",
        "Consider using `Colab Pro` or `Colab Pro+`\n",
        "\n",
        "```\n",
        "@inproceedings{sanchezgonzalez2020learning,\n",
        "  title={Learning to Simulate Complex Physics with Graph Networks},\n",
        "  author={Alvaro Sanchez-Gonzalez and\n",
        "          Jonathan Godwin and\n",
        "          Tobias Pfaff and\n",
        "          Rex Ying and\n",
        "          Jure Leskovec and\n",
        "          Peter W. Battaglia},\n",
        "  booktitle={International Conference on Machine Learning},\n",
        "  year={2020}\n",
        "}\n",
        "```"
      ]
    },
    {
      "cell_type": "code",
      "execution_count": null,
      "metadata": {
        "id": "KndEJ7AC-Sfm"
      },
      "outputs": [],
      "source": [
        "# T4, P100 or better required\n",
        "!nvidia-smi"
      ]
    },
    {
      "cell_type": "code",
      "execution_count": null,
      "metadata": {
        "id": "cQVmG7YG21-x"
      },
      "outputs": [],
      "source": [
        "# Download Repo\n",
        "!git clone https://github.com/deepmind/deepmind-research.git"
      ]
    },
    {
      "cell_type": "code",
      "execution_count": null,
      "metadata": {
        "id": "C2WAllqX4PtG"
      },
      "outputs": [],
      "source": [
        "%cd /content/deepmind-research"
      ]
    },
    {
      "cell_type": "code",
      "execution_count": null,
      "metadata": {
        "id": "GuGtHjDT2pPm"
      },
      "outputs": [],
      "source": [
        "# Install Dependencies\n",
        "!pip install -r learning_to_simulate/requirements.txt\n",
        "!mkdir -p /tmp/rollous"
      ]
    },
    {
      "cell_type": "markdown",
      "source": [
        "**Restart the runtime**"
      ],
      "metadata": {
        "id": "vtmdrKK_JcIM"
      }
    },
    {
      "cell_type": "code",
      "execution_count": null,
      "metadata": {
        "id": "6YRV168P5jLm"
      },
      "outputs": [],
      "source": [
        "%cd /content/deepmind-research"
      ]
    },
    {
      "cell_type": "code",
      "execution_count": null,
      "metadata": {
        "id": "eZnQJ0YJ5feV"
      },
      "outputs": [],
      "source": [
        "# Download the dataset\n",
        "!mkdir -p /tmp/datasets\n",
        "!bash ./learning_to_simulate/download_dataset.sh WaterDrop /tmp/datasets"
      ]
    },
    {
      "cell_type": "code",
      "source": [
        "# visualize model training results\n",
        "%load_ext tensorboard"
      ],
      "metadata": {
        "id": "9DWhv5muY4Up"
      },
      "execution_count": null,
      "outputs": []
    },
    {
      "cell_type": "code",
      "source": [
        "# Prepare to visualize model training results\n",
        "%tensorboard --logdir=\"/content/drive/MyDrive/Colab Notebooks/models/WaterDrop\" # here is your convenient dir"
      ],
      "metadata": {
        "id": "9PjEFv3h_jqq"
      },
      "execution_count": null,
      "outputs": []
    },
    {
      "cell_type": "code",
      "execution_count": null,
      "metadata": {
        "id": "HiMgU98M5iV_"
      },
      "outputs": [],
      "source": [
        "# Learning model\n",
        "!mkdir -p /tmp/models\n",
        "!python -m learning_to_simulate.train \\\n",
        "    --data_path=/tmp/datasets/WaterDrop \\\n",
        "    --model_path=\"/content/drive/MyDrive/Colab Notebooks/models/WaterDrop\""
      ]
    },
    {
      "cell_type": "code",
      "execution_count": null,
      "metadata": {
        "id": "a3aOEI6W5zIE"
      },
      "outputs": [],
      "source": [
        "# Generate several trajectory rollouts in the test set\n",
        "# Can be manually stopped once sufficient rollout has been generated\n",
        "!mkdir -p /tmp/rollouts\n",
        "!python -m learning_to_simulate.train \\\n",
        "    --mode=\"eval_rollout\" \\\n",
        "    --data_path=/tmp/datasets/WaterDrop \\\n",
        "    --model_path=\"/content/drive/MyDrive/Colab Notebooks/models/WaterDrop\" \\\n",
        "    --output_path=/tmp/rollouts/WaterDrop"
      ]
    },
    {
      "cell_type": "code",
      "execution_count": null,
      "metadata": {
        "id": "RCWi0I7m6-zK"
      },
      "outputs": [],
      "source": [
        "import glob\n",
        "import pickle\n",
        "import time\n",
        "\n",
        "from absl import app\n",
        "from absl import flags\n",
        "\n",
        "from matplotlib import animation\n",
        "from matplotlib import rc\n",
        "import matplotlib.pyplot as plt\n",
        "import numpy as np\n",
        "\n",
        "rollout_path = '/tmp/rollouts/WaterDrop/rollout_test_0.pkl' # Specify rollout num\n",
        "\n",
        "step_stride = 3\n",
        "block_on_show = True\n",
        "\n",
        "TYPE_TO_COLOR = {\n",
        "    3: \"black\",  # Boundary particles.\n",
        "    0: \"green\",  # Rigid solids.\n",
        "    7: \"magenta\",  # Goop.\n",
        "    6: \"gold\",  # Sand.\n",
        "    5: \"blue\",  # Water.\n",
        "}\n",
        "\n",
        "with open(rollout_path, \"rb\") as file:\n",
        "    rollout_data = pickle.load(file)\n",
        "\n",
        "fig, axes = plt.subplots(1, 2, figsize=(10, 5))\n",
        "plot_info = []\n",
        "for ax_i, (label, rollout_field) in enumerate(\n",
        "    [(\"Ground truth\", \"ground_truth_rollout\"),\n",
        "        (\"Prediction\", \"predicted_rollout\")]):\n",
        "    # Append the initial positions to get the full trajectory.\n",
        "    trajectory = np.concatenate([\n",
        "        rollout_data[\"initial_positions\"],\n",
        "        rollout_data[rollout_field]], axis=0)\n",
        "    ax = axes[ax_i]\n",
        "    ax.set_title(label)\n",
        "    bounds = rollout_data[\"metadata\"][\"bounds\"]\n",
        "    ax.set_xlim(bounds[0][0], bounds[0][1])\n",
        "    ax.set_ylim(bounds[1][0], bounds[1][1])\n",
        "    ax.set_xticks([])\n",
        "    ax.set_yticks([])\n",
        "    ax.set_aspect(1.)\n",
        "    points = {\n",
        "        particle_type: ax.plot([], [], \"o\", ms=2, color=color)[0]\n",
        "        for particle_type, color in TYPE_TO_COLOR.items()}\n",
        "    plot_info.append((ax, trajectory, points))\n",
        "\n",
        "num_steps = trajectory.shape[0]\n",
        "\n",
        "def update(step_i):\n",
        "    outputs = []\n",
        "    for _, trajectory, points in plot_info:\n",
        "        for particle_type, line in points.items():\n",
        "            mask = rollout_data[\"particle_types\"] == particle_type\n",
        "            line.set_data(trajectory[step_i, mask, 0],\n",
        "                            trajectory[step_i, mask, 1])\n",
        "            outputs.append(line)\n",
        "    return outputs\n",
        "\n",
        "unused_animation = animation.FuncAnimation(\n",
        "    fig, update,\n",
        "    frames=np.arange(0, num_steps, step_stride), interval=10)\n",
        "rc('animation', html='jshtml')\n",
        "unused_animation"
      ]
    },
    {
      "cell_type": "code",
      "source": [
        ""
      ],
      "metadata": {
        "id": "zO_tLaogdvxL"
      },
      "execution_count": 23,
      "outputs": []
    }
  ],
  "metadata": {
    "accelerator": "GPU",
    "colab": {
      "collapsed_sections": [],
      "machine_shape": "hm",
      "name": "learning_to_simulate.ipynb",
      "provenance": []
    },
    "kernelspec": {
      "display_name": "Python 3",
      "name": "python3"
    },
    "language_info": {
      "name": "python"
    }
  },
  "nbformat": 4,
  "nbformat_minor": 0
}